{
 "cells": [
  {
   "cell_type": "markdown",
   "metadata": {},
   "source": [
    "### Note\n",
    "* Instructions have been included for each segment. You do not have to follow them exactly, but they are included to help you think through the steps."
   ]
  },
  {
   "cell_type": "code",
   "execution_count": 45,
   "metadata": {},
   "outputs": [],
   "source": [
    "# PART 1: DEPENDENCIES & SET UP\n",
    "# Import Pandas\n",
    "import pandas as pd\n",
    "import numpy as np\n",
    "import re\n",
    "\n",
    "# Load in CSV file\n",
    "csvfile = \"Resources/purchase_data.csv\"\n",
    "\n",
    "# Read purchase_data.csv and store into Pandas dataframe called purchase_data_df\n",
    "purchase_data_df = pd.read_csv(csvfile)"
   ]
  },
  {
   "cell_type": "markdown",
   "metadata": {},
   "source": [
    "## Player Count"
   ]
  },
  {
   "cell_type": "markdown",
   "metadata": {},
   "source": [
    "* Display the total number of players\n"
   ]
  },
  {
   "cell_type": "code",
   "execution_count": 85,
   "metadata": {
    "scrolled": true
   },
   "outputs": [
    {
     "data": {
      "text/html": [
       "<div>\n",
       "<style scoped>\n",
       "    .dataframe tbody tr th:only-of-type {\n",
       "        vertical-align: middle;\n",
       "    }\n",
       "\n",
       "    .dataframe tbody tr th {\n",
       "        vertical-align: top;\n",
       "    }\n",
       "\n",
       "    .dataframe thead th {\n",
       "        text-align: right;\n",
       "    }\n",
       "</style>\n",
       "<table border=\"1\" class=\"dataframe\">\n",
       "  <thead>\n",
       "    <tr style=\"text-align: right;\">\n",
       "      <th></th>\n",
       "      <th>Total Players</th>\n",
       "    </tr>\n",
       "  </thead>\n",
       "  <tbody>\n",
       "    <tr>\n",
       "      <th>0</th>\n",
       "      <td>576</td>\n",
       "    </tr>\n",
       "  </tbody>\n",
       "</table>\n",
       "</div>"
      ],
      "text/plain": [
       "   Total Players\n",
       "0            576"
      ]
     },
     "execution_count": 85,
     "metadata": {},
     "output_type": "execute_result"
    }
   ],
   "source": [
    "# PART 2: ANALYZE ALL PLAYERS \n",
    "\n",
    "#Define index & find total number of unique players (num_unique_players)\n",
    "#Source: https://www.kite.com/python/answers/how-to-count-the-number-of-rows-in-a-pandas-dataframe-in-python\n",
    "#I don't know why index works\n",
    "overall_index = purchase_data_df.index\n",
    "num_unique_players = purchase_data_df['SN'].nunique()\n",
    "\n",
    "#Display total\n",
    "unique_players_df = pd.DataFrame({\"Total Players\" : [num_unique_players]})\n",
    "unique_players_df"
   ]
  },
  {
   "cell_type": "markdown",
   "metadata": {},
   "source": [
    "## Purchasing Analysis (Total)"
   ]
  },
  {
   "cell_type": "markdown",
   "metadata": {},
   "source": [
    "* Run basic calculations to obtain number of unique items, average price, total # of purchases, total revenue\n",
    "\n",
    "\n",
    "* Create a summary data frame to hold the results\n",
    "\n",
    "\n",
    "* Optional: give the displayed data cleaner formatting\n",
    "\n",
    "\n",
    "* Display the summary data frame\n"
   ]
  },
  {
   "cell_type": "code",
   "execution_count": 84,
   "metadata": {},
   "outputs": [
    {
     "data": {
      "text/html": [
       "<style  type=\"text/css\" >\n",
       "</style><table id=\"T_edb7bb9c_55e9_11eb_b7c8_38b1dbe6973e\" ><thead>    <tr>        <th class=\"blank level0\" ></th>        <th class=\"col_heading level0 col0\" >Number of Unique Items</th>        <th class=\"col_heading level0 col1\" >Average Price</th>        <th class=\"col_heading level0 col2\" >Number of Purchases</th>        <th class=\"col_heading level0 col3\" >Total Revenue</th>    </tr></thead><tbody>\n",
       "                <tr>\n",
       "                        <th id=\"T_edb7bb9c_55e9_11eb_b7c8_38b1dbe6973elevel0_row0\" class=\"row_heading level0 row0\" >0</th>\n",
       "                        <td id=\"T_edb7bb9c_55e9_11eb_b7c8_38b1dbe6973erow0_col0\" class=\"data row0 col0\" >179</td>\n",
       "                        <td id=\"T_edb7bb9c_55e9_11eb_b7c8_38b1dbe6973erow0_col1\" class=\"data row0 col1\" >3.050987</td>\n",
       "                        <td id=\"T_edb7bb9c_55e9_11eb_b7c8_38b1dbe6973erow0_col2\" class=\"data row0 col2\" >780</td>\n",
       "                        <td id=\"T_edb7bb9c_55e9_11eb_b7c8_38b1dbe6973erow0_col3\" class=\"data row0 col3\" >2379.770000</td>\n",
       "            </tr>\n",
       "    </tbody></table>"
      ],
      "text/plain": [
       "<pandas.io.formats.style.Styler at 0x264d0cfe520>"
      ]
     },
     "execution_count": 84,
     "metadata": {},
     "output_type": "execute_result"
    }
   ],
   "source": [
    "#Count unique items in Index 5\n",
    "unique_items = purchase_data_df['Item Name'].nunique()\n",
    "\n",
    "#Find average purchase price\n",
    "average_price = purchase_data_df['Price'].mean(axis=0, skipna=None, level=None, numeric_only=None)\n",
    "\n",
    "#Count Total Number of Purchase\n",
    "total_purchases = len(overall_index)\n",
    "\n",
    "# Sum price column to get total revenue\n",
    "total_revenue = purchase_data_df['Price'].sum()\n",
    "\n",
    "# Store summary analysis in a dataframe called purchase_summary_df\n",
    "purchase_summary_df = pd.DataFrame(\n",
    "    {\"Number of Unique Items\" :[unique_items], \"Average Price\": [average_price], \"Number of Purchases\": [total_purchases], \"Total Revenue\": [total_revenue]})\n",
    "\n",
    "#Display purchase_summary_df as stylized table\n",
    "purchase_summary_df.style"
   ]
  },
  {
   "cell_type": "markdown",
   "metadata": {},
   "source": [
    "## Gender Demographics"
   ]
  },
  {
   "cell_type": "markdown",
   "metadata": {},
   "source": [
    "* Percentage and Count of Male Players\n",
    "\n",
    "\n",
    "* Percentage and Count of Female Players\n",
    "\n",
    "\n",
    "* Percentage and Count of Other / Non-Disclosed\n",
    "\n",
    "\n"
   ]
  },
  {
   "cell_type": "code",
   "execution_count": 86,
   "metadata": {
    "scrolled": true
   },
   "outputs": [
    {
     "name": "stdout",
     "output_type": "stream",
     "text": [
      "14.06\n"
     ]
    },
    {
     "data": {
      "text/html": [
       "<div>\n",
       "<style scoped>\n",
       "    .dataframe tbody tr th:only-of-type {\n",
       "        vertical-align: middle;\n",
       "    }\n",
       "\n",
       "    .dataframe tbody tr th {\n",
       "        vertical-align: top;\n",
       "    }\n",
       "\n",
       "    .dataframe thead th {\n",
       "        text-align: right;\n",
       "    }\n",
       "</style>\n",
       "<table border=\"1\" class=\"dataframe\">\n",
       "  <thead>\n",
       "    <tr style=\"text-align: right;\">\n",
       "      <th></th>\n",
       "      <th>Gender</th>\n",
       "      <th>Total Count</th>\n",
       "      <th>Percentage of Players</th>\n",
       "    </tr>\n",
       "  </thead>\n",
       "  <tbody>\n",
       "    <tr>\n",
       "      <th>0</th>\n",
       "      <td>Female</td>\n",
       "      <td>81</td>\n",
       "      <td>14.06</td>\n",
       "    </tr>\n",
       "    <tr>\n",
       "      <th>1</th>\n",
       "      <td>Male</td>\n",
       "      <td>484</td>\n",
       "      <td>84.03</td>\n",
       "    </tr>\n",
       "    <tr>\n",
       "      <th>2</th>\n",
       "      <td>Other / Non-Disclosed</td>\n",
       "      <td>11</td>\n",
       "      <td>1.91</td>\n",
       "    </tr>\n",
       "  </tbody>\n",
       "</table>\n",
       "</div>"
      ],
      "text/plain": [
       "                  Gender  Total Count  Percentage of Players\n",
       "0                 Female           81                  14.06\n",
       "1                   Male          484                  84.03\n",
       "2  Other / Non-Disclosed           11                   1.91"
      ]
     },
     "execution_count": 86,
     "metadata": {},
     "output_type": "execute_result"
    }
   ],
   "source": [
    "\n",
    "# PART 3: ANALYZE GENDER DEMOGRAPHICS & PURCHASING HABITS\n",
    "\n",
    "# Create a group for gender and sub-groups for female, male, and other / non-disclosed\n",
    "gender_data = purchase_data_df.groupby('Gender')\n",
    "female_players_df = gender_data.get_group('Female')\n",
    "male_players_df = gender_data.get_group('Male')\n",
    "nb_players_df = gender_data.get_group('Other / Non-Disclosed')\n",
    "\n",
    "# PART 3A: Display Basic Demographics\n",
    "# Count unique individuals for each gender\n",
    "num_unique_females = female_players_df['SN'].nunique()\n",
    "num_unique_males = male_players_df['SN'].nunique()\n",
    "num_unique_nb = nb_players_df['SN'].nunique()\n",
    "\n",
    "# Calculate percentage of each gender over total individual players\n",
    "percent_female = round((100* num_unique_females / num_unique_players), 2)\n",
    "percent_male = round((100* num_unique_males / num_unique_players), 2)\n",
    "percent_nb = round((100* num_unique_nb / num_unique_players), 2)\n",
    "\n",
    "print(percent_female)\n",
    "\n",
    "# Display summary dataframe of count and percent of genders / total\n",
    "gender_demographic_df = pd.DataFrame(\n",
    "    { \"Gender\": [\"Female\", \"Male\", \"Other / Non-Disclosed\"], \n",
    "     \"Total Count\": [num_unique_females, num_unique_males, num_unique_nb], \n",
    "     \"Percentage of Players\": [percent_female, percent_male, percent_nb]})\n",
    "\n",
    "gender_demographic_df"
   ]
  },
  {
   "cell_type": "markdown",
   "metadata": {},
   "source": [
    "\n",
    "## Purchasing Analysis (Gender)"
   ]
  },
  {
   "cell_type": "markdown",
   "metadata": {},
   "source": [
    "* Run basic calculations to obtain purchase count, avg. purchase price, avg. purchase total per person etc. by gender\n",
    "\n",
    "\n",
    "\n",
    "\n",
    "* Create a summary data frame to hold the results\n",
    "\n",
    "\n",
    "* Optional: give the displayed data cleaner formatting\n",
    "\n",
    "\n",
    "* Display the summary data frame"
   ]
  },
  {
   "cell_type": "code",
   "execution_count": 49,
   "metadata": {},
   "outputs": [],
   "source": [
    "#PART 3B: Analyze FEMALE players\n",
    "# Calculate Avg Purchase Price, Total Num of Purchases, Total Purchase Value, Avg Purchase per Person\n",
    "average_price_female = female_players_df['Price'].mean()\n",
    "purchase_count_female = female_players_df['Price'].count()\n",
    "purchase_value_female = female_players_df['Price'].sum()\n",
    "purchase_per_female = purchase_value_female / num_unique_females"
   ]
  },
  {
   "cell_type": "code",
   "execution_count": 50,
   "metadata": {},
   "outputs": [],
   "source": [
    "# PART 3C: Analyze MALE players\n",
    "\n",
    "# Calculate Avg Purchase Price, Total Num of Purchases, Total Purchase Value, Avg Purchase per Person\n",
    "average_price_male = male_players_df['Price'].mean()\n",
    "purchase_count_male = male_players_df['Price'].count()\n",
    "purchase_value_male = male_players_df['Price'].sum()\n",
    "purchase_per_male = purchase_value_male / num_unique_males"
   ]
  },
  {
   "cell_type": "code",
   "execution_count": 51,
   "metadata": {},
   "outputs": [],
   "source": [
    "# PART 3D: Analyze OTHER / NON-SPECIFIED players\n",
    "# Calculate Avg Purchase Price, Total Num of Purchases, Total Purchase Value, Avg Purchase per Person\n",
    "average_price_nb = nb_players_df['Price'].mean()\n",
    "purchase_count_nb = nb_players_df['Price'].count()\n",
    "purchase_value_nb = nb_players_df['Price'].sum()\n",
    "purchase_per_nb = purchase_value_nb / num_unique_nb"
   ]
  },
  {
   "cell_type": "code",
   "execution_count": 52,
   "metadata": {},
   "outputs": [
    {
     "data": {
      "text/html": [
       "<style  type=\"text/css\" >\n",
       "</style><table id=\"T_1f5ff0ad_55e6_11eb_9d30_38b1dbe6973e\" ><thead>    <tr>        <th class=\"blank level0\" ></th>        <th class=\"col_heading level0 col0\" >Gender</th>        <th class=\"col_heading level0 col1\" >Purchase Count</th>        <th class=\"col_heading level0 col2\" >Average Price</th>        <th class=\"col_heading level0 col3\" >Total Purchase Value</th>        <th class=\"col_heading level0 col4\" >Avg Total Purchase per Person</th>    </tr></thead><tbody>\n",
       "                <tr>\n",
       "                        <th id=\"T_1f5ff0ad_55e6_11eb_9d30_38b1dbe6973elevel0_row0\" class=\"row_heading level0 row0\" >0</th>\n",
       "                        <td id=\"T_1f5ff0ad_55e6_11eb_9d30_38b1dbe6973erow0_col0\" class=\"data row0 col0\" >Female</td>\n",
       "                        <td id=\"T_1f5ff0ad_55e6_11eb_9d30_38b1dbe6973erow0_col1\" class=\"data row0 col1\" >113</td>\n",
       "                        <td id=\"T_1f5ff0ad_55e6_11eb_9d30_38b1dbe6973erow0_col2\" class=\"data row0 col2\" >$3.20</td>\n",
       "                        <td id=\"T_1f5ff0ad_55e6_11eb_9d30_38b1dbe6973erow0_col3\" class=\"data row0 col3\" >$361.94</td>\n",
       "                        <td id=\"T_1f5ff0ad_55e6_11eb_9d30_38b1dbe6973erow0_col4\" class=\"data row0 col4\" >$4.47</td>\n",
       "            </tr>\n",
       "            <tr>\n",
       "                        <th id=\"T_1f5ff0ad_55e6_11eb_9d30_38b1dbe6973elevel0_row1\" class=\"row_heading level0 row1\" >1</th>\n",
       "                        <td id=\"T_1f5ff0ad_55e6_11eb_9d30_38b1dbe6973erow1_col0\" class=\"data row1 col0\" >Male</td>\n",
       "                        <td id=\"T_1f5ff0ad_55e6_11eb_9d30_38b1dbe6973erow1_col1\" class=\"data row1 col1\" >652</td>\n",
       "                        <td id=\"T_1f5ff0ad_55e6_11eb_9d30_38b1dbe6973erow1_col2\" class=\"data row1 col2\" >$3.02</td>\n",
       "                        <td id=\"T_1f5ff0ad_55e6_11eb_9d30_38b1dbe6973erow1_col3\" class=\"data row1 col3\" >$1,967.64</td>\n",
       "                        <td id=\"T_1f5ff0ad_55e6_11eb_9d30_38b1dbe6973erow1_col4\" class=\"data row1 col4\" >$4.07</td>\n",
       "            </tr>\n",
       "            <tr>\n",
       "                        <th id=\"T_1f5ff0ad_55e6_11eb_9d30_38b1dbe6973elevel0_row2\" class=\"row_heading level0 row2\" >2</th>\n",
       "                        <td id=\"T_1f5ff0ad_55e6_11eb_9d30_38b1dbe6973erow2_col0\" class=\"data row2 col0\" >Other / Non-specified</td>\n",
       "                        <td id=\"T_1f5ff0ad_55e6_11eb_9d30_38b1dbe6973erow2_col1\" class=\"data row2 col1\" >15</td>\n",
       "                        <td id=\"T_1f5ff0ad_55e6_11eb_9d30_38b1dbe6973erow2_col2\" class=\"data row2 col2\" >$3.35</td>\n",
       "                        <td id=\"T_1f5ff0ad_55e6_11eb_9d30_38b1dbe6973erow2_col3\" class=\"data row2 col3\" >$50.19</td>\n",
       "                        <td id=\"T_1f5ff0ad_55e6_11eb_9d30_38b1dbe6973erow2_col4\" class=\"data row2 col4\" >$4.56</td>\n",
       "            </tr>\n",
       "    </tbody></table>"
      ],
      "text/plain": [
       "<pandas.io.formats.style.Styler at 0x264d0ce12b0>"
      ]
     },
     "execution_count": 52,
     "metadata": {},
     "output_type": "execute_result"
    }
   ],
   "source": [
    "# PART 4E: Create & Display Summary Analysis\n",
    "# Set data frame to gender_summary_df\n",
    "gender_summary_df = pd.DataFrame(\n",
    "    { \"Gender\": [\"Female\", \"Male\", \"Other / Non-specified\"], \n",
    "     \"Purchase Count\": [purchase_count_female, purchase_count_male, purchase_count_nb], \n",
    "     \"Average Price\": [average_price_female, average_price_male, average_price_nb], \n",
    "     \"Total Purchase Value\" : [purchase_value_female, purchase_value_male, purchase_value_nb],\n",
    "     \"Avg Total Purchase per Person\" : [purchase_per_female, purchase_per_male, purchase_per_nb]})\n",
    "\n",
    "\n",
    "# Style table\n",
    "gender_summary_df.style.format({'Average Price':\"${:,.2f}\",\n",
    "                                'Total Purchase Value': \"${:,.2f}\",\n",
    "                               'Avg Total Purchase per Person' : \"${:,.2f}\"})"
   ]
  },
  {
   "cell_type": "markdown",
   "metadata": {},
   "source": [
    "## Age Demographics"
   ]
  },
  {
   "cell_type": "markdown",
   "metadata": {},
   "source": [
    "* Establish bins for ages\n",
    "\n",
    "\n",
    "* Categorize the existing players using the age bins. Hint: use pd.cut()\n",
    "\n",
    "\n",
    "* Calculate the numbers and percentages by age group\n",
    "\n",
    "\n",
    "* Create a summary data frame to hold the results\n",
    "\n",
    "\n",
    "* Optional: round the percentage column to two decimal points\n",
    "\n",
    "\n",
    "* Display Age Demographics Table\n"
   ]
  },
  {
   "cell_type": "code",
   "execution_count": 87,
   "metadata": {},
   "outputs": [
    {
     "data": {
      "text/plain": [
       "0    20-24\n",
       "1    40-44\n",
       "2    20-24\n",
       "3    20-24\n",
       "4    20-24\n",
       "Name: Age, dtype: category\n",
       "Categories (9, object): ['0-10' < '10-14' < '15-19' < '20-24' ... '30-34' < '35-39' < '40-44' < '45-49']"
      ]
     },
     "execution_count": 87,
     "metadata": {},
     "output_type": "execute_result"
    }
   ],
   "source": [
    "# PART 5: AGE DEMOGRAPHICS & ANALYSIS BY AGE GROUPS\n",
    "\n",
    "# PART 5A: Display Basic Demographics\n",
    "# Create bins for age groups\n",
    "age_bins = [0, 9, 14, 19, 24, 29, 34, 39, 44, 49]\n",
    "\n",
    "# Create labels for age group bins\n",
    "age_labels = [\"0-10\", \"10-14\", \"15-19\", \"20-24\", \"25-29\", \"30-34\", \"35-39\", \"40-44\", \"45-49\"]\n",
    "\n",
    "# Slice age group and place into age_bins\n",
    "pd.cut(purchase_data_df[\"Age\"], age_bins, labels=age_labels).head()"
   ]
  },
  {
   "cell_type": "code",
   "execution_count": 88,
   "metadata": {},
   "outputs": [],
   "source": [
    "# Place data series into new column in purchase_data_df\n",
    "purchase_data_df[\"Age Group\"] = pd.cut(purchase_data_df[\"Age\"], age_bins, labels=age_labels, ordered=True)"
   ]
  },
  {
   "cell_type": "code",
   "execution_count": 97,
   "metadata": {},
   "outputs": [
    {
     "data": {
      "text/html": [
       "<div>\n",
       "<style scoped>\n",
       "    .dataframe tbody tr th:only-of-type {\n",
       "        vertical-align: middle;\n",
       "    }\n",
       "\n",
       "    .dataframe tbody tr th {\n",
       "        vertical-align: top;\n",
       "    }\n",
       "\n",
       "    .dataframe thead th {\n",
       "        text-align: right;\n",
       "    }\n",
       "</style>\n",
       "<table border=\"1\" class=\"dataframe\">\n",
       "  <thead>\n",
       "    <tr style=\"text-align: right;\">\n",
       "      <th></th>\n",
       "      <th>Total Count</th>\n",
       "      <th>Percentage of Players</th>\n",
       "    </tr>\n",
       "    <tr>\n",
       "      <th>Age Group</th>\n",
       "      <th></th>\n",
       "      <th></th>\n",
       "    </tr>\n",
       "  </thead>\n",
       "  <tbody>\n",
       "    <tr>\n",
       "      <th>0-10</th>\n",
       "      <td>23</td>\n",
       "      <td>2.951389</td>\n",
       "    </tr>\n",
       "    <tr>\n",
       "      <th>10-14</th>\n",
       "      <td>28</td>\n",
       "      <td>3.819444</td>\n",
       "    </tr>\n",
       "    <tr>\n",
       "      <th>15-19</th>\n",
       "      <td>136</td>\n",
       "      <td>18.576389</td>\n",
       "    </tr>\n",
       "    <tr>\n",
       "      <th>20-24</th>\n",
       "      <td>365</td>\n",
       "      <td>44.791667</td>\n",
       "    </tr>\n",
       "    <tr>\n",
       "      <th>25-29</th>\n",
       "      <td>101</td>\n",
       "      <td>13.368056</td>\n",
       "    </tr>\n",
       "    <tr>\n",
       "      <th>30-34</th>\n",
       "      <td>73</td>\n",
       "      <td>9.027778</td>\n",
       "    </tr>\n",
       "    <tr>\n",
       "      <th>35-39</th>\n",
       "      <td>41</td>\n",
       "      <td>5.381944</td>\n",
       "    </tr>\n",
       "    <tr>\n",
       "      <th>40-44</th>\n",
       "      <td>12</td>\n",
       "      <td>1.909722</td>\n",
       "    </tr>\n",
       "    <tr>\n",
       "      <th>45-49</th>\n",
       "      <td>1</td>\n",
       "      <td>0.173611</td>\n",
       "    </tr>\n",
       "  </tbody>\n",
       "</table>\n",
       "</div>"
      ],
      "text/plain": [
       "           Total Count  Percentage of Players\n",
       "Age Group                                    \n",
       "0-10                23               2.951389\n",
       "10-14               28               3.819444\n",
       "15-19              136              18.576389\n",
       "20-24              365              44.791667\n",
       "25-29              101              13.368056\n",
       "30-34               73               9.027778\n",
       "35-39               41               5.381944\n",
       "40-44               12               1.909722\n",
       "45-49                1               0.173611"
      ]
     },
     "execution_count": 97,
     "metadata": {},
     "output_type": "execute_result"
    }
   ],
   "source": [
    "# Find total count of players per age group, including duplicate users\n",
    "age_data = purchase_data_df.groupby('Age Group')\n",
    "age_count = age_data['SN'].count()\n",
    "\n",
    "# Find total count of players per age group, NO DUPLICATES\n",
    "age_count_unique = age_data['SN'].nunique()\n",
    "age_percentage = (age_count_unique / num_unique_players)*100\n",
    "\n",
    "# Display age demographics table\n",
    "age_demographics_df = pd.DataFrame(\n",
    "    { \"Total Count\": age_count, \n",
    "     \"Percentage of Players\": age_percentage})\n",
    "age_demographics_df\n",
    "\n",
    "# # Convert groupby object for age_data into dataframe\n",
    "# age_data_df = purchase_data_df.groupby('Age Group')\n",
    "# age_count = age_data['SN'].count()\n",
    "\n",
    "# Find percentage of players per age group\n",
    "# age_group_percentage = round((100* age_count_unique / num_unique_players), 2)"
   ]
  },
  {
   "cell_type": "code",
   "execution_count": 95,
   "metadata": {},
   "outputs": [
    {
     "data": {
      "text/html": [
       "<div>\n",
       "<style scoped>\n",
       "    .dataframe tbody tr th:only-of-type {\n",
       "        vertical-align: middle;\n",
       "    }\n",
       "\n",
       "    .dataframe tbody tr th {\n",
       "        vertical-align: top;\n",
       "    }\n",
       "\n",
       "    .dataframe thead th {\n",
       "        text-align: right;\n",
       "    }\n",
       "</style>\n",
       "<table border=\"1\" class=\"dataframe\">\n",
       "  <thead>\n",
       "    <tr style=\"text-align: right;\">\n",
       "      <th></th>\n",
       "      <th>Total Count</th>\n",
       "      <th>Percentage of Players</th>\n",
       "    </tr>\n",
       "    <tr>\n",
       "      <th>Age Group</th>\n",
       "      <th></th>\n",
       "      <th></th>\n",
       "    </tr>\n",
       "  </thead>\n",
       "  <tbody>\n",
       "    <tr>\n",
       "      <th>0-10</th>\n",
       "      <td>17</td>\n",
       "      <td>3.993056</td>\n",
       "    </tr>\n",
       "    <tr>\n",
       "      <th>10-14</th>\n",
       "      <td>22</td>\n",
       "      <td>4.861111</td>\n",
       "    </tr>\n",
       "    <tr>\n",
       "      <th>15-19</th>\n",
       "      <td>107</td>\n",
       "      <td>23.611111</td>\n",
       "    </tr>\n",
       "    <tr>\n",
       "      <th>20-24</th>\n",
       "      <td>258</td>\n",
       "      <td>63.368056</td>\n",
       "    </tr>\n",
       "    <tr>\n",
       "      <th>25-29</th>\n",
       "      <td>77</td>\n",
       "      <td>17.534722</td>\n",
       "    </tr>\n",
       "    <tr>\n",
       "      <th>30-34</th>\n",
       "      <td>52</td>\n",
       "      <td>12.673611</td>\n",
       "    </tr>\n",
       "    <tr>\n",
       "      <th>35-39</th>\n",
       "      <td>31</td>\n",
       "      <td>7.118056</td>\n",
       "    </tr>\n",
       "    <tr>\n",
       "      <th>40-44</th>\n",
       "      <td>11</td>\n",
       "      <td>2.083333</td>\n",
       "    </tr>\n",
       "    <tr>\n",
       "      <th>45-49</th>\n",
       "      <td>1</td>\n",
       "      <td>0.173611</td>\n",
       "    </tr>\n",
       "  </tbody>\n",
       "</table>\n",
       "</div>"
      ],
      "text/plain": [
       "           Total Count  Percentage of Players\n",
       "Age Group                                    \n",
       "0-10                17               3.993056\n",
       "10-14               22               4.861111\n",
       "15-19              107              23.611111\n",
       "20-24              258              63.368056\n",
       "25-29               77              17.534722\n",
       "30-34               52              12.673611\n",
       "35-39               31               7.118056\n",
       "40-44               11               2.083333\n",
       "45-49                1               0.173611"
      ]
     },
     "execution_count": 95,
     "metadata": {},
     "output_type": "execute_result"
    }
   ],
   "source": [
    "\n",
    "# Display age demographics table\n",
    "age_demographics_df = pd.DataFrame(\n",
    "    { \"Total Count\": (age_count_unique), \n",
    "     \"Percentage of Players\": (age_percentage)})\n",
    "age_demographics_df"
   ]
  },
  {
   "cell_type": "markdown",
   "metadata": {},
   "source": [
    "## Purchasing Analysis (Age)"
   ]
  },
  {
   "cell_type": "markdown",
   "metadata": {},
   "source": [
    "* Bin the purchase_data data frame by age\n",
    "\n",
    "\n",
    "* Run basic calculations to obtain purchase count, avg. purchase price, avg. purchase total per person etc. in the table below\n",
    "\n",
    "\n",
    "* Create a summary data frame to hold the results\n",
    "\n",
    "\n",
    "* Optional: give the displayed data cleaner formatting\n",
    "\n",
    "\n",
    "* Display the summary data frame"
   ]
  },
  {
   "cell_type": "code",
   "execution_count": null,
   "metadata": {
    "scrolled": true
   },
   "outputs": [],
   "source": [
    "# PART 5B: Purchasing Analysis by Age Group\n",
    "\n",
    "# Find average purchase price by age group\n",
    "average_price_age = age_data['Price'].mean()\n",
    "# age_group_average\n",
    "\n",
    "# Count Total Number of Purchase\n",
    "purchase_count_age = age_data['Price'].count()\n",
    "# age_total_purchase\n",
    "\n",
    "# Sum price column to get total revenue\n",
    "purchase_value_age = age_data['Price'].sum()\n",
    "# age_group_sum_price\n",
    "\n",
    "# Average purchase total per age group"
   ]
  },
  {
   "cell_type": "code",
   "execution_count": null,
   "metadata": {},
   "outputs": [],
   "source": [
    "age_summary_df = pd.DataFrame(\n",
    "    { \"Purchase Count\": purchase_count_age,\n",
    "     \"Average Purchase Price\": average_price_age, \n",
    "     \"Total Purchase Value\": purchase_value_age })\n",
    "age_summary_df"
   ]
  },
  {
   "cell_type": "markdown",
   "metadata": {},
   "source": [
    "## Top Spenders"
   ]
  },
  {
   "cell_type": "markdown",
   "metadata": {},
   "source": [
    "* Run basic calculations to obtain the results in the table below\n",
    "\n",
    "\n",
    "* Create a summary data frame to hold the results\n",
    "\n",
    "\n",
    "* Sort the total purchase value column in descending order\n",
    "\n",
    "\n",
    "* Optional: give the displayed data cleaner formatting\n",
    "\n",
    "\n",
    "* Display a preview of the summary data frame\n",
    "\n"
   ]
  },
  {
   "cell_type": "code",
   "execution_count": null,
   "metadata": {
    "scrolled": true
   },
   "outputs": [],
   "source": [
    "# PART 6: ANALYZE TOP SPENDERS\n",
    "\n",
    "# Group by Spenders\n",
    "spenders_data = purchase_data_df.groupby('SN')\n",
    "\n",
    "#Run data analysis\n",
    "purchase_count_spender = spenders_data['Price'].count() \n",
    "average_price_spender = spenders_data['Price'].mean()\n",
    "total_rev_spender = spenders_data['Price'].sum()\n",
    "total_rev_spender\n",
    "\n",
    "spender_analysis_df = pd.DataFrame(\n",
    "    { \"Purchase Count\": purchase_count_spender,\n",
    "     \"Average Purchase Price\": average_price_spender, \n",
    "     \"Total Purchase Value\": total_rev_spender })\n",
    "\n",
    "top_spenders_df = spender_analysis_df.sort_values(by='Total Purchase Value', ascending=False).head(5)\n",
    "top_spenders_df\n"
   ]
  },
  {
   "cell_type": "markdown",
   "metadata": {},
   "source": [
    "## Most Popular Items"
   ]
  },
  {
   "cell_type": "markdown",
   "metadata": {},
   "source": [
    "* Retrieve the Item ID, Item Name, and Item Price columns\n",
    "\n",
    "\n",
    "* Group by Item ID and Item Name. Perform calculations to obtain purchase count, average item price, and total purchase value\n",
    "\n",
    "\n",
    "* Create a summary data frame to hold the results\n",
    "\n",
    "\n",
    "* Sort the purchase count column in descending order\n",
    "\n",
    "\n",
    "* Optional: give the displayed data cleaner formatting\n",
    "\n",
    "\n",
    "* Display a preview of the summary data frame\n",
    "\n"
   ]
  },
  {
   "cell_type": "code",
   "execution_count": null,
   "metadata": {},
   "outputs": [],
   "source": [
    "# PART 7: ANALYZE MOST POPULAR ITEMS\n",
    "\n",
    "# Group by Items\n",
    "items_data = purchase_data_df[['Item ID', 'Item Name', 'Price']]\n",
    "items_data = items_data.groupby(['Item ID', 'Item Name'])\n",
    "items_data.head()\n",
    "\n",
    "# Run data analysis\n",
    "purchase_count_items = items_data['Item ID'].count() \n",
    "average_price_items = items_data['Price'].mean()\n",
    "purchase_value_items = items_data['Price'].sum()\n",
    "\n",
    "item_analysis_df = pd.DataFrame(\n",
    "    { \"Purchase Count\": purchase_count_items,\n",
    "     \"Average Purchase Price\": average_price_items, \n",
    "     \"Total Purchase Value\": purchase_value_items })\n",
    "\n",
    "popular_items_df = item_analysis_df.sort_values(by='Purchase Count', ascending=False).head(5)\n",
    "popular_items_df"
   ]
  },
  {
   "cell_type": "markdown",
   "metadata": {},
   "source": [
    "## Most Profitable Items"
   ]
  },
  {
   "cell_type": "markdown",
   "metadata": {},
   "source": [
    "* Sort the above table by total purchase value in descending order\n",
    "\n",
    "\n",
    "* Optional: give the displayed data cleaner formatting\n",
    "\n",
    "\n",
    "* Display a preview of the data frame\n",
    "\n"
   ]
  },
  {
   "cell_type": "code",
   "execution_count": null,
   "metadata": {
    "scrolled": true
   },
   "outputs": [],
   "source": [
    "# PART 8: IDENTIFY MOST PROFITABLE ITEMS\n",
    "\n",
    "# Sort table of most popular items by total purchase value\n",
    "profitable_items_df = item_analysis_df.sort_values(by='Total Purchase Value', ascending=False).head(5)\n",
    "profitable_items_df"
   ]
  },
  {
   "cell_type": "code",
   "execution_count": null,
   "metadata": {},
   "outputs": [],
   "source": []
  }
 ],
 "metadata": {
  "anaconda-cloud": {},
  "kernel_info": {
   "name": "python3"
  },
  "kernelspec": {
   "display_name": "Python 3",
   "language": "python",
   "name": "python3"
  },
  "language_info": {
   "codemirror_mode": {
    "name": "ipython",
    "version": 3
   },
   "file_extension": ".py",
   "mimetype": "text/x-python",
   "name": "python",
   "nbconvert_exporter": "python",
   "pygments_lexer": "ipython3",
   "version": "3.8.5"
  },
  "latex_envs": {
   "LaTeX_envs_menu_present": true,
   "autoclose": false,
   "autocomplete": true,
   "bibliofile": "biblio.bib",
   "cite_by": "apalike",
   "current_citInitial": 1,
   "eqLabelWithNumbers": true,
   "eqNumInitial": 1,
   "hotkeys": {
    "equation": "Ctrl-E",
    "itemize": "Ctrl-I"
   },
   "labels_anchors": false,
   "latex_user_defs": false,
   "report_style_numbering": false,
   "user_envs_cfg": false
  },
  "nteract": {
   "version": "0.2.0"
  }
 },
 "nbformat": 4,
 "nbformat_minor": 2
}
