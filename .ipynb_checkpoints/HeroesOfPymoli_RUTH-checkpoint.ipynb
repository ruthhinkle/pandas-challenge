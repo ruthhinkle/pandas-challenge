{
 "cells": [
  {
   "cell_type": "markdown",
   "metadata": {},
   "source": [
    "### Note\n",
    "* Instructions have been included for each segment. You do not have to follow them exactly, but they are included to help you think through the steps."
   ]
  },
  {
   "cell_type": "code",
   "execution_count": 1,
   "metadata": {},
   "outputs": [],
   "source": [
    "# PART 1: DEPENDENCIES & SET UP\n",
    "# Import Pandas\n",
    "import pandas as pd\n",
    "import numpy as np\n",
    "import re\n",
    "\n",
    "# Load in CSV file\n",
    "csvfile = \"Resources/purchase_data.csv\"\n",
    "\n",
    "# Read purchase_data.csv and store into Pandas dataframe called purchase_data_df\n",
    "purchase_data_df = pd.read_csv(csvfile)"
   ]
  },
  {
   "cell_type": "markdown",
   "metadata": {},
   "source": [
    "## Player Count"
   ]
  },
  {
   "cell_type": "markdown",
   "metadata": {},
   "source": [
    "* Display the total number of players\n"
   ]
  },
  {
   "cell_type": "code",
   "execution_count": 2,
   "metadata": {
    "scrolled": true
   },
   "outputs": [
    {
     "data": {
      "text/html": [
       "<div>\n",
       "<style scoped>\n",
       "    .dataframe tbody tr th:only-of-type {\n",
       "        vertical-align: middle;\n",
       "    }\n",
       "\n",
       "    .dataframe tbody tr th {\n",
       "        vertical-align: top;\n",
       "    }\n",
       "\n",
       "    .dataframe thead th {\n",
       "        text-align: right;\n",
       "    }\n",
       "</style>\n",
       "<table border=\"1\" class=\"dataframe\">\n",
       "  <thead>\n",
       "    <tr style=\"text-align: right;\">\n",
       "      <th></th>\n",
       "      <th>Total Players</th>\n",
       "    </tr>\n",
       "  </thead>\n",
       "  <tbody>\n",
       "    <tr>\n",
       "      <th>0</th>\n",
       "      <td>576</td>\n",
       "    </tr>\n",
       "  </tbody>\n",
       "</table>\n",
       "</div>"
      ],
      "text/plain": [
       "   Total Players\n",
       "0            576"
      ]
     },
     "execution_count": 2,
     "metadata": {},
     "output_type": "execute_result"
    }
   ],
   "source": [
    "# PART 2: ANALYZE ALL PLAYERS \n",
    "\n",
    "#Define index & find total number of unique players (num_unique_players)\n",
    "#Source: https://www.kite.com/python/answers/how-to-count-the-number-of-rows-in-a-pandas-dataframe-in-python\n",
    "#I don't know why index works\n",
    "overall_index = purchase_data_df.index\n",
    "num_unique_players = purchase_data_df['SN'].nunique()\n",
    "\n",
    "#Display total\n",
    "unique_players_df = pd.DataFrame({\"Total Players\" : [num_unique_players]})\n",
    "unique_players_df"
   ]
  },
  {
   "cell_type": "markdown",
   "metadata": {},
   "source": [
    "## Purchasing Analysis (Total)"
   ]
  },
  {
   "cell_type": "markdown",
   "metadata": {},
   "source": [
    "* Run basic calculations to obtain number of unique items, average price, total # of purchases, total revenue\n",
    "\n",
    "\n",
    "* Create a summary data frame to hold the results\n",
    "\n",
    "\n",
    "* Optional: give the displayed data cleaner formatting\n",
    "\n",
    "\n",
    "* Display the summary data frame\n"
   ]
  },
  {
   "cell_type": "code",
   "execution_count": 3,
   "metadata": {},
   "outputs": [
    {
     "data": {
      "text/html": [
       "<style  type=\"text/css\" >\n",
       "</style><table id=\"T_a7a94795_55ec_11eb_8500_38b1dbe6973e\" ><thead>    <tr>        <th class=\"blank level0\" ></th>        <th class=\"col_heading level0 col0\" >Number of Unique Items</th>        <th class=\"col_heading level0 col1\" >Average Price</th>        <th class=\"col_heading level0 col2\" >Number of Purchases</th>        <th class=\"col_heading level0 col3\" >Total Revenue</th>    </tr></thead><tbody>\n",
       "                <tr>\n",
       "                        <th id=\"T_a7a94795_55ec_11eb_8500_38b1dbe6973elevel0_row0\" class=\"row_heading level0 row0\" >0</th>\n",
       "                        <td id=\"T_a7a94795_55ec_11eb_8500_38b1dbe6973erow0_col0\" class=\"data row0 col0\" >179</td>\n",
       "                        <td id=\"T_a7a94795_55ec_11eb_8500_38b1dbe6973erow0_col1\" class=\"data row0 col1\" >$3.05</td>\n",
       "                        <td id=\"T_a7a94795_55ec_11eb_8500_38b1dbe6973erow0_col2\" class=\"data row0 col2\" >780</td>\n",
       "                        <td id=\"T_a7a94795_55ec_11eb_8500_38b1dbe6973erow0_col3\" class=\"data row0 col3\" >$2,379.77</td>\n",
       "            </tr>\n",
       "    </tbody></table>"
      ],
      "text/plain": [
       "<pandas.io.formats.style.Styler at 0x21f7ca2e0d0>"
      ]
     },
     "execution_count": 3,
     "metadata": {},
     "output_type": "execute_result"
    }
   ],
   "source": [
    "#Count unique items in Index 5\n",
    "unique_items = purchase_data_df['Item Name'].nunique()\n",
    "\n",
    "#Find average purchase price\n",
    "average_price = purchase_data_df['Price'].mean(axis=0, skipna=None, level=None, numeric_only=None)\n",
    "\n",
    "#Count Total Number of Purchase\n",
    "total_purchases = len(overall_index)\n",
    "\n",
    "# Sum price column to get total revenue\n",
    "total_revenue = purchase_data_df['Price'].sum()\n",
    "\n",
    "# Store summary analysis in a dataframe called purchase_summary_df\n",
    "purchase_summary_df = pd.DataFrame(\n",
    "    {\"Number of Unique Items\" :[unique_items], \"Average Price\": [average_price], \"Number of Purchases\": [total_purchases], \"Total Revenue\": [total_revenue]})\n",
    "\n",
    "#Display purchase_summary_df as stylized table\n",
    "purchase_summary_df.style.format({'Average Price':\"${:,.2f}\",\n",
    "                         'Total Revenue': '${:,.2f}'})"
   ]
  },
  {
   "cell_type": "markdown",
   "metadata": {},
   "source": [
    "## Gender Demographics"
   ]
  },
  {
   "cell_type": "markdown",
   "metadata": {},
   "source": [
    "* Percentage and Count of Male Players\n",
    "\n",
    "\n",
    "* Percentage and Count of Female Players\n",
    "\n",
    "\n",
    "* Percentage and Count of Other / Non-Disclosed\n",
    "\n",
    "\n"
   ]
  },
  {
   "cell_type": "code",
   "execution_count": 4,
   "metadata": {
    "scrolled": true
   },
   "outputs": [
    {
     "data": {
      "text/html": [
       "<style  type=\"text/css\" >\n",
       "</style><table id=\"T_a7adb5ab_55ec_11eb_9ee3_38b1dbe6973e\" ><thead>    <tr>        <th class=\"blank level0\" ></th>        <th class=\"col_heading level0 col0\" >Gender</th>        <th class=\"col_heading level0 col1\" >Total Count</th>        <th class=\"col_heading level0 col2\" >Percentage of Players</th>    </tr></thead><tbody>\n",
       "                <tr>\n",
       "                        <th id=\"T_a7adb5ab_55ec_11eb_9ee3_38b1dbe6973elevel0_row0\" class=\"row_heading level0 row0\" >0</th>\n",
       "                        <td id=\"T_a7adb5ab_55ec_11eb_9ee3_38b1dbe6973erow0_col0\" class=\"data row0 col0\" >Female</td>\n",
       "                        <td id=\"T_a7adb5ab_55ec_11eb_9ee3_38b1dbe6973erow0_col1\" class=\"data row0 col1\" >81</td>\n",
       "                        <td id=\"T_a7adb5ab_55ec_11eb_9ee3_38b1dbe6973erow0_col2\" class=\"data row0 col2\" >14.06%</td>\n",
       "            </tr>\n",
       "            <tr>\n",
       "                        <th id=\"T_a7adb5ab_55ec_11eb_9ee3_38b1dbe6973elevel0_row1\" class=\"row_heading level0 row1\" >1</th>\n",
       "                        <td id=\"T_a7adb5ab_55ec_11eb_9ee3_38b1dbe6973erow1_col0\" class=\"data row1 col0\" >Male</td>\n",
       "                        <td id=\"T_a7adb5ab_55ec_11eb_9ee3_38b1dbe6973erow1_col1\" class=\"data row1 col1\" >484</td>\n",
       "                        <td id=\"T_a7adb5ab_55ec_11eb_9ee3_38b1dbe6973erow1_col2\" class=\"data row1 col2\" >84.03%</td>\n",
       "            </tr>\n",
       "            <tr>\n",
       "                        <th id=\"T_a7adb5ab_55ec_11eb_9ee3_38b1dbe6973elevel0_row2\" class=\"row_heading level0 row2\" >2</th>\n",
       "                        <td id=\"T_a7adb5ab_55ec_11eb_9ee3_38b1dbe6973erow2_col0\" class=\"data row2 col0\" >Other / Non-Disclosed</td>\n",
       "                        <td id=\"T_a7adb5ab_55ec_11eb_9ee3_38b1dbe6973erow2_col1\" class=\"data row2 col1\" >11</td>\n",
       "                        <td id=\"T_a7adb5ab_55ec_11eb_9ee3_38b1dbe6973erow2_col2\" class=\"data row2 col2\" >1.91%</td>\n",
       "            </tr>\n",
       "    </tbody></table>"
      ],
      "text/plain": [
       "<pandas.io.formats.style.Styler at 0x21f7db57400>"
      ]
     },
     "execution_count": 4,
     "metadata": {},
     "output_type": "execute_result"
    }
   ],
   "source": [
    "\n",
    "# PART 3: ANALYZE GENDER DEMOGRAPHICS & PURCHASING HABITS\n",
    "\n",
    "# Create a group for gender and sub-groups for female, male, and other / non-disclosed\n",
    "gender_data = purchase_data_df.groupby('Gender')\n",
    "female_players_df = gender_data.get_group('Female')\n",
    "male_players_df = gender_data.get_group('Male')\n",
    "nb_players_df = gender_data.get_group('Other / Non-Disclosed')\n",
    "\n",
    "# PART 3A: Display Basic Demographics\n",
    "# Count unique individuals for each gender\n",
    "num_unique_females = female_players_df['SN'].nunique()\n",
    "num_unique_males = male_players_df['SN'].nunique()\n",
    "num_unique_nb = nb_players_df['SN'].nunique()\n",
    "\n",
    "# Calculate percentage of each gender over total individual players\n",
    "percent_female = round((100* num_unique_females / num_unique_players), 2)\n",
    "percent_male = round((100* num_unique_males / num_unique_players), 2)\n",
    "percent_nb = round((100* num_unique_nb / num_unique_players), 2)\n",
    "\n",
    "# Display summary dataframe of count and percent of genders / total\n",
    "gender_demographic_df = pd.DataFrame(\n",
    "    { \"Gender\": [\"Female\", \"Male\", \"Other / Non-Disclosed\"], \n",
    "     \"Total Count\": [num_unique_females, num_unique_males, num_unique_nb], \n",
    "     \"Percentage of Players\": [percent_female, percent_male, percent_nb]})\n",
    "\n",
    "gender_demographic_df\n",
    "gender_demographic_df.style.format({'Percentage of Players':\"{:,.2f}%\"})"
   ]
  },
  {
   "cell_type": "markdown",
   "metadata": {},
   "source": [
    "\n",
    "## Purchasing Analysis (Gender)"
   ]
  },
  {
   "cell_type": "markdown",
   "metadata": {},
   "source": [
    "* Run basic calculations to obtain purchase count, avg. purchase price, avg. purchase total per person etc. by gender\n",
    "\n",
    "\n",
    "\n",
    "\n",
    "* Create a summary data frame to hold the results\n",
    "\n",
    "\n",
    "* Optional: give the displayed data cleaner formatting\n",
    "\n",
    "\n",
    "* Display the summary data frame"
   ]
  },
  {
   "cell_type": "code",
   "execution_count": 5,
   "metadata": {},
   "outputs": [],
   "source": [
    "#PART 3B: Analyze FEMALE players\n",
    "# Calculate Avg Purchase Price, Total Num of Purchases, Total Purchase Value, Avg Purchase per Person\n",
    "average_price_female = female_players_df['Price'].mean()\n",
    "purchase_count_female = female_players_df['Price'].count()\n",
    "purchase_value_female = female_players_df['Price'].sum()\n",
    "purchase_per_female = purchase_value_female / num_unique_females"
   ]
  },
  {
   "cell_type": "code",
   "execution_count": 6,
   "metadata": {},
   "outputs": [],
   "source": [
    "# PART 3C: Analyze MALE players\n",
    "\n",
    "# Calculate Avg Purchase Price, Total Num of Purchases, Total Purchase Value, Avg Purchase per Person\n",
    "average_price_male = male_players_df['Price'].mean()\n",
    "purchase_count_male = male_players_df['Price'].count()\n",
    "purchase_value_male = male_players_df['Price'].sum()\n",
    "purchase_per_male = purchase_value_male / num_unique_males"
   ]
  },
  {
   "cell_type": "code",
   "execution_count": 7,
   "metadata": {},
   "outputs": [],
   "source": [
    "# PART 3D: Analyze OTHER / NON-SPECIFIED players\n",
    "# Calculate Avg Purchase Price, Total Num of Purchases, Total Purchase Value, Avg Purchase per Person\n",
    "average_price_nb = nb_players_df['Price'].mean()\n",
    "purchase_count_nb = nb_players_df['Price'].count()\n",
    "purchase_value_nb = nb_players_df['Price'].sum()\n",
    "purchase_per_nb = purchase_value_nb / num_unique_nb"
   ]
  },
  {
   "cell_type": "code",
   "execution_count": 8,
   "metadata": {},
   "outputs": [
    {
     "data": {
      "text/html": [
       "<style  type=\"text/css\" >\n",
       "</style><table id=\"T_a819f222_55ec_11eb_92b3_38b1dbe6973e\" ><thead>    <tr>        <th class=\"blank level0\" ></th>        <th class=\"col_heading level0 col0\" >Gender</th>        <th class=\"col_heading level0 col1\" >Purchase Count</th>        <th class=\"col_heading level0 col2\" >Average Price</th>        <th class=\"col_heading level0 col3\" >Total Purchase Value</th>        <th class=\"col_heading level0 col4\" >Avg Total Purchase per Person</th>    </tr></thead><tbody>\n",
       "                <tr>\n",
       "                        <th id=\"T_a819f222_55ec_11eb_92b3_38b1dbe6973elevel0_row0\" class=\"row_heading level0 row0\" >0</th>\n",
       "                        <td id=\"T_a819f222_55ec_11eb_92b3_38b1dbe6973erow0_col0\" class=\"data row0 col0\" >Female</td>\n",
       "                        <td id=\"T_a819f222_55ec_11eb_92b3_38b1dbe6973erow0_col1\" class=\"data row0 col1\" >113</td>\n",
       "                        <td id=\"T_a819f222_55ec_11eb_92b3_38b1dbe6973erow0_col2\" class=\"data row0 col2\" >$3.20</td>\n",
       "                        <td id=\"T_a819f222_55ec_11eb_92b3_38b1dbe6973erow0_col3\" class=\"data row0 col3\" >$361.94</td>\n",
       "                        <td id=\"T_a819f222_55ec_11eb_92b3_38b1dbe6973erow0_col4\" class=\"data row0 col4\" >$4.47</td>\n",
       "            </tr>\n",
       "            <tr>\n",
       "                        <th id=\"T_a819f222_55ec_11eb_92b3_38b1dbe6973elevel0_row1\" class=\"row_heading level0 row1\" >1</th>\n",
       "                        <td id=\"T_a819f222_55ec_11eb_92b3_38b1dbe6973erow1_col0\" class=\"data row1 col0\" >Male</td>\n",
       "                        <td id=\"T_a819f222_55ec_11eb_92b3_38b1dbe6973erow1_col1\" class=\"data row1 col1\" >652</td>\n",
       "                        <td id=\"T_a819f222_55ec_11eb_92b3_38b1dbe6973erow1_col2\" class=\"data row1 col2\" >$3.02</td>\n",
       "                        <td id=\"T_a819f222_55ec_11eb_92b3_38b1dbe6973erow1_col3\" class=\"data row1 col3\" >$1,967.64</td>\n",
       "                        <td id=\"T_a819f222_55ec_11eb_92b3_38b1dbe6973erow1_col4\" class=\"data row1 col4\" >$4.07</td>\n",
       "            </tr>\n",
       "            <tr>\n",
       "                        <th id=\"T_a819f222_55ec_11eb_92b3_38b1dbe6973elevel0_row2\" class=\"row_heading level0 row2\" >2</th>\n",
       "                        <td id=\"T_a819f222_55ec_11eb_92b3_38b1dbe6973erow2_col0\" class=\"data row2 col0\" >Other / Non-specified</td>\n",
       "                        <td id=\"T_a819f222_55ec_11eb_92b3_38b1dbe6973erow2_col1\" class=\"data row2 col1\" >15</td>\n",
       "                        <td id=\"T_a819f222_55ec_11eb_92b3_38b1dbe6973erow2_col2\" class=\"data row2 col2\" >$3.35</td>\n",
       "                        <td id=\"T_a819f222_55ec_11eb_92b3_38b1dbe6973erow2_col3\" class=\"data row2 col3\" >$50.19</td>\n",
       "                        <td id=\"T_a819f222_55ec_11eb_92b3_38b1dbe6973erow2_col4\" class=\"data row2 col4\" >$4.56</td>\n",
       "            </tr>\n",
       "    </tbody></table>"
      ],
      "text/plain": [
       "<pandas.io.formats.style.Styler at 0x21f7ca0fac0>"
      ]
     },
     "execution_count": 8,
     "metadata": {},
     "output_type": "execute_result"
    }
   ],
   "source": [
    "# PART 4E: Create & Display Summary Analysis\n",
    "# Set data frame to gender_summary_df\n",
    "gender_summary_df = pd.DataFrame(\n",
    "    { \"Gender\": [\"Female\", \"Male\", \"Other / Non-specified\"], \n",
    "     \"Purchase Count\": [purchase_count_female, purchase_count_male, purchase_count_nb], \n",
    "     \"Average Price\": [average_price_female, average_price_male, average_price_nb], \n",
    "     \"Total Purchase Value\" : [purchase_value_female, purchase_value_male, purchase_value_nb],\n",
    "     \"Avg Total Purchase per Person\" : [purchase_per_female, purchase_per_male, purchase_per_nb]})\n",
    "\n",
    "\n",
    "# Style table\n",
    "gender_summary_df.style.format({'Average Price':\"${:,.2f}\",\n",
    "                                'Total Purchase Value': \"${:,.2f}\",\n",
    "                               'Avg Total Purchase per Person' : \"${:,.2f}\"})"
   ]
  },
  {
   "cell_type": "markdown",
   "metadata": {},
   "source": [
    "## Age Demographics"
   ]
  },
  {
   "cell_type": "markdown",
   "metadata": {},
   "source": [
    "* Establish bins for ages\n",
    "\n",
    "\n",
    "* Categorize the existing players using the age bins. Hint: use pd.cut()\n",
    "\n",
    "\n",
    "* Calculate the numbers and percentages by age group\n",
    "\n",
    "\n",
    "* Create a summary data frame to hold the results\n",
    "\n",
    "\n",
    "* Optional: round the percentage column to two decimal points\n",
    "\n",
    "\n",
    "* Display Age Demographics Table\n"
   ]
  },
  {
   "cell_type": "code",
   "execution_count": 9,
   "metadata": {},
   "outputs": [
    {
     "data": {
      "text/plain": [
       "0    20-24\n",
       "1    40-44\n",
       "2    20-24\n",
       "3    20-24\n",
       "4    20-24\n",
       "Name: Age, dtype: category\n",
       "Categories (9, object): ['0-10' < '10-14' < '15-19' < '20-24' ... '30-34' < '35-39' < '40-44' < '45-49']"
      ]
     },
     "execution_count": 9,
     "metadata": {},
     "output_type": "execute_result"
    }
   ],
   "source": [
    "# PART 5: AGE DEMOGRAPHICS & ANALYSIS BY AGE GROUPS\n",
    "\n",
    "# PART 5A: Display Basic Demographics\n",
    "# Create bins for age groups\n",
    "age_bins = [0, 9, 14, 19, 24, 29, 34, 39, 44, 49]\n",
    "\n",
    "# Create labels for age group bins\n",
    "age_labels = [\"0-10\", \"10-14\", \"15-19\", \"20-24\", \"25-29\", \"30-34\", \"35-39\", \"40-44\", \"45-49\"]\n",
    "\n",
    "# Slice age group and place into age_bins\n",
    "pd.cut(purchase_data_df[\"Age\"], age_bins, labels=age_labels).head()"
   ]
  },
  {
   "cell_type": "code",
   "execution_count": 10,
   "metadata": {},
   "outputs": [],
   "source": [
    "# Place data series into new column in purchase_data_df\n",
    "purchase_data_df[\"Age Group\"] = pd.cut(purchase_data_df[\"Age\"], age_bins, labels=age_labels, ordered=True)"
   ]
  },
  {
   "cell_type": "code",
   "execution_count": 11,
   "metadata": {},
   "outputs": [
    {
     "data": {
      "text/html": [
       "<style  type=\"text/css\" >\n",
       "</style><table id=\"T_a86c2188_55ec_11eb_bd57_38b1dbe6973e\" ><thead>    <tr>        <th class=\"blank level0\" ></th>        <th class=\"col_heading level0 col0\" >Total Count</th>        <th class=\"col_heading level0 col1\" >Percentage of Players</th>    </tr>    <tr>        <th class=\"index_name level0\" >Age Group</th>        <th class=\"blank\" ></th>        <th class=\"blank\" ></th>    </tr></thead><tbody>\n",
       "                <tr>\n",
       "                        <th id=\"T_a86c2188_55ec_11eb_bd57_38b1dbe6973elevel0_row0\" class=\"row_heading level0 row0\" >0-10</th>\n",
       "                        <td id=\"T_a86c2188_55ec_11eb_bd57_38b1dbe6973erow0_col0\" class=\"data row0 col0\" >23</td>\n",
       "                        <td id=\"T_a86c2188_55ec_11eb_bd57_38b1dbe6973erow0_col1\" class=\"data row0 col1\" >2.95%</td>\n",
       "            </tr>\n",
       "            <tr>\n",
       "                        <th id=\"T_a86c2188_55ec_11eb_bd57_38b1dbe6973elevel0_row1\" class=\"row_heading level0 row1\" >10-14</th>\n",
       "                        <td id=\"T_a86c2188_55ec_11eb_bd57_38b1dbe6973erow1_col0\" class=\"data row1 col0\" >28</td>\n",
       "                        <td id=\"T_a86c2188_55ec_11eb_bd57_38b1dbe6973erow1_col1\" class=\"data row1 col1\" >3.82%</td>\n",
       "            </tr>\n",
       "            <tr>\n",
       "                        <th id=\"T_a86c2188_55ec_11eb_bd57_38b1dbe6973elevel0_row2\" class=\"row_heading level0 row2\" >15-19</th>\n",
       "                        <td id=\"T_a86c2188_55ec_11eb_bd57_38b1dbe6973erow2_col0\" class=\"data row2 col0\" >136</td>\n",
       "                        <td id=\"T_a86c2188_55ec_11eb_bd57_38b1dbe6973erow2_col1\" class=\"data row2 col1\" >18.58%</td>\n",
       "            </tr>\n",
       "            <tr>\n",
       "                        <th id=\"T_a86c2188_55ec_11eb_bd57_38b1dbe6973elevel0_row3\" class=\"row_heading level0 row3\" >20-24</th>\n",
       "                        <td id=\"T_a86c2188_55ec_11eb_bd57_38b1dbe6973erow3_col0\" class=\"data row3 col0\" >365</td>\n",
       "                        <td id=\"T_a86c2188_55ec_11eb_bd57_38b1dbe6973erow3_col1\" class=\"data row3 col1\" >44.79%</td>\n",
       "            </tr>\n",
       "            <tr>\n",
       "                        <th id=\"T_a86c2188_55ec_11eb_bd57_38b1dbe6973elevel0_row4\" class=\"row_heading level0 row4\" >25-29</th>\n",
       "                        <td id=\"T_a86c2188_55ec_11eb_bd57_38b1dbe6973erow4_col0\" class=\"data row4 col0\" >101</td>\n",
       "                        <td id=\"T_a86c2188_55ec_11eb_bd57_38b1dbe6973erow4_col1\" class=\"data row4 col1\" >13.37%</td>\n",
       "            </tr>\n",
       "            <tr>\n",
       "                        <th id=\"T_a86c2188_55ec_11eb_bd57_38b1dbe6973elevel0_row5\" class=\"row_heading level0 row5\" >30-34</th>\n",
       "                        <td id=\"T_a86c2188_55ec_11eb_bd57_38b1dbe6973erow5_col0\" class=\"data row5 col0\" >73</td>\n",
       "                        <td id=\"T_a86c2188_55ec_11eb_bd57_38b1dbe6973erow5_col1\" class=\"data row5 col1\" >9.03%</td>\n",
       "            </tr>\n",
       "            <tr>\n",
       "                        <th id=\"T_a86c2188_55ec_11eb_bd57_38b1dbe6973elevel0_row6\" class=\"row_heading level0 row6\" >35-39</th>\n",
       "                        <td id=\"T_a86c2188_55ec_11eb_bd57_38b1dbe6973erow6_col0\" class=\"data row6 col0\" >41</td>\n",
       "                        <td id=\"T_a86c2188_55ec_11eb_bd57_38b1dbe6973erow6_col1\" class=\"data row6 col1\" >5.38%</td>\n",
       "            </tr>\n",
       "            <tr>\n",
       "                        <th id=\"T_a86c2188_55ec_11eb_bd57_38b1dbe6973elevel0_row7\" class=\"row_heading level0 row7\" >40-44</th>\n",
       "                        <td id=\"T_a86c2188_55ec_11eb_bd57_38b1dbe6973erow7_col0\" class=\"data row7 col0\" >12</td>\n",
       "                        <td id=\"T_a86c2188_55ec_11eb_bd57_38b1dbe6973erow7_col1\" class=\"data row7 col1\" >1.91%</td>\n",
       "            </tr>\n",
       "            <tr>\n",
       "                        <th id=\"T_a86c2188_55ec_11eb_bd57_38b1dbe6973elevel0_row8\" class=\"row_heading level0 row8\" >45-49</th>\n",
       "                        <td id=\"T_a86c2188_55ec_11eb_bd57_38b1dbe6973erow8_col0\" class=\"data row8 col0\" >1</td>\n",
       "                        <td id=\"T_a86c2188_55ec_11eb_bd57_38b1dbe6973erow8_col1\" class=\"data row8 col1\" >0.17%</td>\n",
       "            </tr>\n",
       "    </tbody></table>"
      ],
      "text/plain": [
       "<pandas.io.formats.style.Styler at 0x21f7db461c0>"
      ]
     },
     "execution_count": 11,
     "metadata": {},
     "output_type": "execute_result"
    }
   ],
   "source": [
    "# Find total count of players per age group, including duplicate users\n",
    "age_data = purchase_data_df.groupby('Age Group')\n",
    "age_count = age_data['SN'].count()\n",
    "\n",
    "# Find total count of players per age group, NO DUPLICATES\n",
    "age_count_unique = age_data['SN'].nunique()\n",
    "age_percentage = (age_count_unique / num_unique_players)*100\n",
    "\n",
    "# Display age demographics table\n",
    "age_demographics_df = pd.DataFrame(\n",
    "    { \"Total Count\": age_count, \n",
    "     \"Percentage of Players\": age_percentage})\n",
    "\n",
    "# Style and display summary table\n",
    "age_demographics_df.style.format({'Percentage of Players':\"{:,.2f}%\"})"
   ]
  },
  {
   "cell_type": "markdown",
   "metadata": {},
   "source": [
    "## Purchasing Analysis (Age)"
   ]
  },
  {
   "cell_type": "markdown",
   "metadata": {},
   "source": [
    "* Bin the purchase_data data frame by age\n",
    "\n",
    "\n",
    "* Run basic calculations to obtain purchase count, avg. purchase price, avg. purchase total per person etc. in the table below\n",
    "\n",
    "\n",
    "* Create a summary data frame to hold the results\n",
    "\n",
    "\n",
    "* Optional: give the displayed data cleaner formatting\n",
    "\n",
    "\n",
    "* Display the summary data frame"
   ]
  },
  {
   "cell_type": "code",
   "execution_count": 12,
   "metadata": {
    "scrolled": true
   },
   "outputs": [],
   "source": [
    "# PART 5B: Purchasing Analysis by Age Group\n",
    "\n",
    "# Find average purchase price by age group\n",
    "average_price_age = age_data['Price'].mean()\n",
    "# age_group_average\n",
    "\n",
    "# Count Total Number of Purchase\n",
    "purchase_count_age = age_data['Price'].count()\n",
    "# age_total_purchase\n",
    "\n",
    "# Sum price column to get total revenue\n",
    "purchase_value_age = age_data['Price'].sum()\n",
    "# age_group_sum_price\n",
    "\n",
    "# Average purchase total per age group\n",
    "purchase_per_age = purchase_value_age / age_count_unique"
   ]
  },
  {
   "cell_type": "code",
   "execution_count": 13,
   "metadata": {},
   "outputs": [
    {
     "data": {
      "text/html": [
       "<style  type=\"text/css\" >\n",
       "</style><table id=\"T_a894eae4_55ec_11eb_82f8_38b1dbe6973e\" ><thead>    <tr>        <th class=\"blank level0\" ></th>        <th class=\"col_heading level0 col0\" >Purchase Count</th>        <th class=\"col_heading level0 col1\" >Average Price</th>        <th class=\"col_heading level0 col2\" >Total Purchase Value</th>        <th class=\"col_heading level0 col3\" >Avg Total Purchase per Person</th>    </tr>    <tr>        <th class=\"index_name level0\" >Age Group</th>        <th class=\"blank\" ></th>        <th class=\"blank\" ></th>        <th class=\"blank\" ></th>        <th class=\"blank\" ></th>    </tr></thead><tbody>\n",
       "                <tr>\n",
       "                        <th id=\"T_a894eae4_55ec_11eb_82f8_38b1dbe6973elevel0_row0\" class=\"row_heading level0 row0\" >0-10</th>\n",
       "                        <td id=\"T_a894eae4_55ec_11eb_82f8_38b1dbe6973erow0_col0\" class=\"data row0 col0\" >23</td>\n",
       "                        <td id=\"T_a894eae4_55ec_11eb_82f8_38b1dbe6973erow0_col1\" class=\"data row0 col1\" >$3.35</td>\n",
       "                        <td id=\"T_a894eae4_55ec_11eb_82f8_38b1dbe6973erow0_col2\" class=\"data row0 col2\" >$77.13</td>\n",
       "                        <td id=\"T_a894eae4_55ec_11eb_82f8_38b1dbe6973erow0_col3\" class=\"data row0 col3\" >$4.54</td>\n",
       "            </tr>\n",
       "            <tr>\n",
       "                        <th id=\"T_a894eae4_55ec_11eb_82f8_38b1dbe6973elevel0_row1\" class=\"row_heading level0 row1\" >10-14</th>\n",
       "                        <td id=\"T_a894eae4_55ec_11eb_82f8_38b1dbe6973erow1_col0\" class=\"data row1 col0\" >28</td>\n",
       "                        <td id=\"T_a894eae4_55ec_11eb_82f8_38b1dbe6973erow1_col1\" class=\"data row1 col1\" >$2.96</td>\n",
       "                        <td id=\"T_a894eae4_55ec_11eb_82f8_38b1dbe6973erow1_col2\" class=\"data row1 col2\" >$82.78</td>\n",
       "                        <td id=\"T_a894eae4_55ec_11eb_82f8_38b1dbe6973erow1_col3\" class=\"data row1 col3\" >$3.76</td>\n",
       "            </tr>\n",
       "            <tr>\n",
       "                        <th id=\"T_a894eae4_55ec_11eb_82f8_38b1dbe6973elevel0_row2\" class=\"row_heading level0 row2\" >15-19</th>\n",
       "                        <td id=\"T_a894eae4_55ec_11eb_82f8_38b1dbe6973erow2_col0\" class=\"data row2 col0\" >136</td>\n",
       "                        <td id=\"T_a894eae4_55ec_11eb_82f8_38b1dbe6973erow2_col1\" class=\"data row2 col1\" >$3.04</td>\n",
       "                        <td id=\"T_a894eae4_55ec_11eb_82f8_38b1dbe6973erow2_col2\" class=\"data row2 col2\" >$412.89</td>\n",
       "                        <td id=\"T_a894eae4_55ec_11eb_82f8_38b1dbe6973erow2_col3\" class=\"data row2 col3\" >$3.86</td>\n",
       "            </tr>\n",
       "            <tr>\n",
       "                        <th id=\"T_a894eae4_55ec_11eb_82f8_38b1dbe6973elevel0_row3\" class=\"row_heading level0 row3\" >20-24</th>\n",
       "                        <td id=\"T_a894eae4_55ec_11eb_82f8_38b1dbe6973erow3_col0\" class=\"data row3 col0\" >365</td>\n",
       "                        <td id=\"T_a894eae4_55ec_11eb_82f8_38b1dbe6973erow3_col1\" class=\"data row3 col1\" >$3.05</td>\n",
       "                        <td id=\"T_a894eae4_55ec_11eb_82f8_38b1dbe6973erow3_col2\" class=\"data row3 col2\" >$1,114.06</td>\n",
       "                        <td id=\"T_a894eae4_55ec_11eb_82f8_38b1dbe6973erow3_col3\" class=\"data row3 col3\" >$4.32</td>\n",
       "            </tr>\n",
       "            <tr>\n",
       "                        <th id=\"T_a894eae4_55ec_11eb_82f8_38b1dbe6973elevel0_row4\" class=\"row_heading level0 row4\" >25-29</th>\n",
       "                        <td id=\"T_a894eae4_55ec_11eb_82f8_38b1dbe6973erow4_col0\" class=\"data row4 col0\" >101</td>\n",
       "                        <td id=\"T_a894eae4_55ec_11eb_82f8_38b1dbe6973erow4_col1\" class=\"data row4 col1\" >$2.90</td>\n",
       "                        <td id=\"T_a894eae4_55ec_11eb_82f8_38b1dbe6973erow4_col2\" class=\"data row4 col2\" >$293.00</td>\n",
       "                        <td id=\"T_a894eae4_55ec_11eb_82f8_38b1dbe6973erow4_col3\" class=\"data row4 col3\" >$3.81</td>\n",
       "            </tr>\n",
       "            <tr>\n",
       "                        <th id=\"T_a894eae4_55ec_11eb_82f8_38b1dbe6973elevel0_row5\" class=\"row_heading level0 row5\" >30-34</th>\n",
       "                        <td id=\"T_a894eae4_55ec_11eb_82f8_38b1dbe6973erow5_col0\" class=\"data row5 col0\" >73</td>\n",
       "                        <td id=\"T_a894eae4_55ec_11eb_82f8_38b1dbe6973erow5_col1\" class=\"data row5 col1\" >$2.93</td>\n",
       "                        <td id=\"T_a894eae4_55ec_11eb_82f8_38b1dbe6973erow5_col2\" class=\"data row5 col2\" >$214.00</td>\n",
       "                        <td id=\"T_a894eae4_55ec_11eb_82f8_38b1dbe6973erow5_col3\" class=\"data row5 col3\" >$4.12</td>\n",
       "            </tr>\n",
       "            <tr>\n",
       "                        <th id=\"T_a894eae4_55ec_11eb_82f8_38b1dbe6973elevel0_row6\" class=\"row_heading level0 row6\" >35-39</th>\n",
       "                        <td id=\"T_a894eae4_55ec_11eb_82f8_38b1dbe6973erow6_col0\" class=\"data row6 col0\" >41</td>\n",
       "                        <td id=\"T_a894eae4_55ec_11eb_82f8_38b1dbe6973erow6_col1\" class=\"data row6 col1\" >$3.60</td>\n",
       "                        <td id=\"T_a894eae4_55ec_11eb_82f8_38b1dbe6973erow6_col2\" class=\"data row6 col2\" >$147.67</td>\n",
       "                        <td id=\"T_a894eae4_55ec_11eb_82f8_38b1dbe6973erow6_col3\" class=\"data row6 col3\" >$4.76</td>\n",
       "            </tr>\n",
       "            <tr>\n",
       "                        <th id=\"T_a894eae4_55ec_11eb_82f8_38b1dbe6973elevel0_row7\" class=\"row_heading level0 row7\" >40-44</th>\n",
       "                        <td id=\"T_a894eae4_55ec_11eb_82f8_38b1dbe6973erow7_col0\" class=\"data row7 col0\" >12</td>\n",
       "                        <td id=\"T_a894eae4_55ec_11eb_82f8_38b1dbe6973erow7_col1\" class=\"data row7 col1\" >$3.04</td>\n",
       "                        <td id=\"T_a894eae4_55ec_11eb_82f8_38b1dbe6973erow7_col2\" class=\"data row7 col2\" >$36.54</td>\n",
       "                        <td id=\"T_a894eae4_55ec_11eb_82f8_38b1dbe6973erow7_col3\" class=\"data row7 col3\" >$3.32</td>\n",
       "            </tr>\n",
       "            <tr>\n",
       "                        <th id=\"T_a894eae4_55ec_11eb_82f8_38b1dbe6973elevel0_row8\" class=\"row_heading level0 row8\" >45-49</th>\n",
       "                        <td id=\"T_a894eae4_55ec_11eb_82f8_38b1dbe6973erow8_col0\" class=\"data row8 col0\" >1</td>\n",
       "                        <td id=\"T_a894eae4_55ec_11eb_82f8_38b1dbe6973erow8_col1\" class=\"data row8 col1\" >$1.70</td>\n",
       "                        <td id=\"T_a894eae4_55ec_11eb_82f8_38b1dbe6973erow8_col2\" class=\"data row8 col2\" >$1.70</td>\n",
       "                        <td id=\"T_a894eae4_55ec_11eb_82f8_38b1dbe6973erow8_col3\" class=\"data row8 col3\" >$1.70</td>\n",
       "            </tr>\n",
       "    </tbody></table>"
      ],
      "text/plain": [
       "<pandas.io.formats.style.Styler at 0x21f7db466d0>"
      ]
     },
     "execution_count": 13,
     "metadata": {},
     "output_type": "execute_result"
    }
   ],
   "source": [
    "age_summary_df = pd.DataFrame(\n",
    "    { \"Purchase Count\": purchase_count_age,\n",
    "     \"Average Price\": average_price_age, \n",
    "     \"Total Purchase Value\": purchase_value_age,\n",
    "     \"Avg Total Purchase per Person\": purchase_per_age})\n",
    "\n",
    "age_summary_df.style.format({'Average Price':\"${:,.2f}\",\n",
    "                                'Total Purchase Value': \"${:,.2f}\",\n",
    "                               'Avg Total Purchase per Person' : \"${:,.2f}\"})"
   ]
  },
  {
   "cell_type": "markdown",
   "metadata": {},
   "source": [
    "## Top Spenders"
   ]
  },
  {
   "cell_type": "markdown",
   "metadata": {},
   "source": [
    "* Run basic calculations to obtain the results in the table below\n",
    "\n",
    "\n",
    "* Create a summary data frame to hold the results\n",
    "\n",
    "\n",
    "* Sort the total purchase value column in descending order\n",
    "\n",
    "\n",
    "* Optional: give the displayed data cleaner formatting\n",
    "\n",
    "\n",
    "* Display a preview of the summary data frame\n",
    "\n"
   ]
  },
  {
   "cell_type": "code",
   "execution_count": 14,
   "metadata": {
    "scrolled": true
   },
   "outputs": [
    {
     "data": {
      "text/html": [
       "<style  type=\"text/css\" >\n",
       "</style><table id=\"T_a8adf050_55ec_11eb_9b59_38b1dbe6973e\" ><thead>    <tr>        <th class=\"blank level0\" ></th>        <th class=\"col_heading level0 col0\" >Purchase Count</th>        <th class=\"col_heading level0 col1\" >Average Purchase Price</th>        <th class=\"col_heading level0 col2\" >Total Purchase Value</th>    </tr>    <tr>        <th class=\"index_name level0\" >SN</th>        <th class=\"blank\" ></th>        <th class=\"blank\" ></th>        <th class=\"blank\" ></th>    </tr></thead><tbody>\n",
       "                <tr>\n",
       "                        <th id=\"T_a8adf050_55ec_11eb_9b59_38b1dbe6973elevel0_row0\" class=\"row_heading level0 row0\" >Lisosia93</th>\n",
       "                        <td id=\"T_a8adf050_55ec_11eb_9b59_38b1dbe6973erow0_col0\" class=\"data row0 col0\" >5</td>\n",
       "                        <td id=\"T_a8adf050_55ec_11eb_9b59_38b1dbe6973erow0_col1\" class=\"data row0 col1\" >$3.79</td>\n",
       "                        <td id=\"T_a8adf050_55ec_11eb_9b59_38b1dbe6973erow0_col2\" class=\"data row0 col2\" >$18.96</td>\n",
       "            </tr>\n",
       "            <tr>\n",
       "                        <th id=\"T_a8adf050_55ec_11eb_9b59_38b1dbe6973elevel0_row1\" class=\"row_heading level0 row1\" >Idastidru52</th>\n",
       "                        <td id=\"T_a8adf050_55ec_11eb_9b59_38b1dbe6973erow1_col0\" class=\"data row1 col0\" >4</td>\n",
       "                        <td id=\"T_a8adf050_55ec_11eb_9b59_38b1dbe6973erow1_col1\" class=\"data row1 col1\" >$3.86</td>\n",
       "                        <td id=\"T_a8adf050_55ec_11eb_9b59_38b1dbe6973erow1_col2\" class=\"data row1 col2\" >$15.45</td>\n",
       "            </tr>\n",
       "            <tr>\n",
       "                        <th id=\"T_a8adf050_55ec_11eb_9b59_38b1dbe6973elevel0_row2\" class=\"row_heading level0 row2\" >Chamjask73</th>\n",
       "                        <td id=\"T_a8adf050_55ec_11eb_9b59_38b1dbe6973erow2_col0\" class=\"data row2 col0\" >3</td>\n",
       "                        <td id=\"T_a8adf050_55ec_11eb_9b59_38b1dbe6973erow2_col1\" class=\"data row2 col1\" >$4.61</td>\n",
       "                        <td id=\"T_a8adf050_55ec_11eb_9b59_38b1dbe6973erow2_col2\" class=\"data row2 col2\" >$13.83</td>\n",
       "            </tr>\n",
       "            <tr>\n",
       "                        <th id=\"T_a8adf050_55ec_11eb_9b59_38b1dbe6973elevel0_row3\" class=\"row_heading level0 row3\" >Iral74</th>\n",
       "                        <td id=\"T_a8adf050_55ec_11eb_9b59_38b1dbe6973erow3_col0\" class=\"data row3 col0\" >4</td>\n",
       "                        <td id=\"T_a8adf050_55ec_11eb_9b59_38b1dbe6973erow3_col1\" class=\"data row3 col1\" >$3.40</td>\n",
       "                        <td id=\"T_a8adf050_55ec_11eb_9b59_38b1dbe6973erow3_col2\" class=\"data row3 col2\" >$13.62</td>\n",
       "            </tr>\n",
       "            <tr>\n",
       "                        <th id=\"T_a8adf050_55ec_11eb_9b59_38b1dbe6973elevel0_row4\" class=\"row_heading level0 row4\" >Iskadarya95</th>\n",
       "                        <td id=\"T_a8adf050_55ec_11eb_9b59_38b1dbe6973erow4_col0\" class=\"data row4 col0\" >3</td>\n",
       "                        <td id=\"T_a8adf050_55ec_11eb_9b59_38b1dbe6973erow4_col1\" class=\"data row4 col1\" >$4.37</td>\n",
       "                        <td id=\"T_a8adf050_55ec_11eb_9b59_38b1dbe6973erow4_col2\" class=\"data row4 col2\" >$13.10</td>\n",
       "            </tr>\n",
       "    </tbody></table>"
      ],
      "text/plain": [
       "<pandas.io.formats.style.Styler at 0x21f7dbd4190>"
      ]
     },
     "execution_count": 14,
     "metadata": {},
     "output_type": "execute_result"
    }
   ],
   "source": [
    "# PART 6: ANALYZE TOP SPENDERS\n",
    "\n",
    "# Group by Spenders\n",
    "spenders_data = purchase_data_df.groupby('SN')\n",
    "\n",
    "#Run data analysis\n",
    "purchase_count_spender = spenders_data['Price'].count() \n",
    "average_price_spender = spenders_data['Price'].mean()\n",
    "total_rev_spender = spenders_data['Price'].sum()\n",
    "total_rev_spender\n",
    "\n",
    "spender_analysis_df = pd.DataFrame(\n",
    "    { \"Purchase Count\": purchase_count_spender,\n",
    "     \"Average Purchase Price\": average_price_spender, \n",
    "     \"Total Purchase Value\": total_rev_spender })\n",
    "\n",
    "top_spenders_df = spender_analysis_df.sort_values(by='Total Purchase Value', ascending=False).head(5)\n",
    "\n",
    "top_spenders_df.style.format({'Average Purchase Price':\"${:,.2f}\",\n",
    "                                'Total Purchase Value': \"${:,.2f}\"})\n"
   ]
  },
  {
   "cell_type": "markdown",
   "metadata": {},
   "source": [
    "## Most Popular Items"
   ]
  },
  {
   "cell_type": "markdown",
   "metadata": {},
   "source": [
    "* Retrieve the Item ID, Item Name, and Item Price columns\n",
    "\n",
    "\n",
    "* Group by Item ID and Item Name. Perform calculations to obtain purchase count, average item price, and total purchase value\n",
    "\n",
    "\n",
    "* Create a summary data frame to hold the results\n",
    "\n",
    "\n",
    "* Sort the purchase count column in descending order\n",
    "\n",
    "\n",
    "* Optional: give the displayed data cleaner formatting\n",
    "\n",
    "\n",
    "* Display a preview of the summary data frame\n",
    "\n"
   ]
  },
  {
   "cell_type": "code",
   "execution_count": 15,
   "metadata": {},
   "outputs": [
    {
     "data": {
      "text/html": [
       "<style  type=\"text/css\" >\n",
       "</style><table id=\"T_a8e33372_55ec_11eb_a5f9_38b1dbe6973e\" ><thead>    <tr>        <th class=\"blank\" ></th>        <th class=\"blank level0\" ></th>        <th class=\"col_heading level0 col0\" >Purchase Count</th>        <th class=\"col_heading level0 col1\" >Average Purchase Price</th>        <th class=\"col_heading level0 col2\" >Total Purchase Value</th>    </tr>    <tr>        <th class=\"index_name level0\" >Item ID</th>        <th class=\"index_name level1\" >Item Name</th>        <th class=\"blank\" ></th>        <th class=\"blank\" ></th>        <th class=\"blank\" ></th>    </tr></thead><tbody>\n",
       "                <tr>\n",
       "                        <th id=\"T_a8e33372_55ec_11eb_a5f9_38b1dbe6973elevel0_row0\" class=\"row_heading level0 row0\" >92</th>\n",
       "                        <th id=\"T_a8e33372_55ec_11eb_a5f9_38b1dbe6973elevel1_row0\" class=\"row_heading level1 row0\" >Final Critic</th>\n",
       "                        <td id=\"T_a8e33372_55ec_11eb_a5f9_38b1dbe6973erow0_col0\" class=\"data row0 col0\" >13</td>\n",
       "                        <td id=\"T_a8e33372_55ec_11eb_a5f9_38b1dbe6973erow0_col1\" class=\"data row0 col1\" >$4.61</td>\n",
       "                        <td id=\"T_a8e33372_55ec_11eb_a5f9_38b1dbe6973erow0_col2\" class=\"data row0 col2\" >$59.99</td>\n",
       "            </tr>\n",
       "            <tr>\n",
       "                        <th id=\"T_a8e33372_55ec_11eb_a5f9_38b1dbe6973elevel0_row1\" class=\"row_heading level0 row1\" >178</th>\n",
       "                        <th id=\"T_a8e33372_55ec_11eb_a5f9_38b1dbe6973elevel1_row1\" class=\"row_heading level1 row1\" >Oathbreaker, Last Hope of the Breaking Storm</th>\n",
       "                        <td id=\"T_a8e33372_55ec_11eb_a5f9_38b1dbe6973erow1_col0\" class=\"data row1 col0\" >12</td>\n",
       "                        <td id=\"T_a8e33372_55ec_11eb_a5f9_38b1dbe6973erow1_col1\" class=\"data row1 col1\" >$4.23</td>\n",
       "                        <td id=\"T_a8e33372_55ec_11eb_a5f9_38b1dbe6973erow1_col2\" class=\"data row1 col2\" >$50.76</td>\n",
       "            </tr>\n",
       "            <tr>\n",
       "                        <th id=\"T_a8e33372_55ec_11eb_a5f9_38b1dbe6973elevel0_row2\" class=\"row_heading level0 row2\" >145</th>\n",
       "                        <th id=\"T_a8e33372_55ec_11eb_a5f9_38b1dbe6973elevel1_row2\" class=\"row_heading level1 row2\" >Fiery Glass Crusader</th>\n",
       "                        <td id=\"T_a8e33372_55ec_11eb_a5f9_38b1dbe6973erow2_col0\" class=\"data row2 col0\" >9</td>\n",
       "                        <td id=\"T_a8e33372_55ec_11eb_a5f9_38b1dbe6973erow2_col1\" class=\"data row2 col1\" >$4.58</td>\n",
       "                        <td id=\"T_a8e33372_55ec_11eb_a5f9_38b1dbe6973erow2_col2\" class=\"data row2 col2\" >$41.22</td>\n",
       "            </tr>\n",
       "            <tr>\n",
       "                        <th id=\"T_a8e33372_55ec_11eb_a5f9_38b1dbe6973elevel0_row3\" class=\"row_heading level0 row3\" >132</th>\n",
       "                        <th id=\"T_a8e33372_55ec_11eb_a5f9_38b1dbe6973elevel1_row3\" class=\"row_heading level1 row3\" >Persuasion</th>\n",
       "                        <td id=\"T_a8e33372_55ec_11eb_a5f9_38b1dbe6973erow3_col0\" class=\"data row3 col0\" >9</td>\n",
       "                        <td id=\"T_a8e33372_55ec_11eb_a5f9_38b1dbe6973erow3_col1\" class=\"data row3 col1\" >$3.22</td>\n",
       "                        <td id=\"T_a8e33372_55ec_11eb_a5f9_38b1dbe6973erow3_col2\" class=\"data row3 col2\" >$28.99</td>\n",
       "            </tr>\n",
       "            <tr>\n",
       "                        <th id=\"T_a8e33372_55ec_11eb_a5f9_38b1dbe6973elevel0_row4\" class=\"row_heading level0 row4\" >108</th>\n",
       "                        <th id=\"T_a8e33372_55ec_11eb_a5f9_38b1dbe6973elevel1_row4\" class=\"row_heading level1 row4\" >Extraction, Quickblade Of Trembling Hands</th>\n",
       "                        <td id=\"T_a8e33372_55ec_11eb_a5f9_38b1dbe6973erow4_col0\" class=\"data row4 col0\" >9</td>\n",
       "                        <td id=\"T_a8e33372_55ec_11eb_a5f9_38b1dbe6973erow4_col1\" class=\"data row4 col1\" >$3.53</td>\n",
       "                        <td id=\"T_a8e33372_55ec_11eb_a5f9_38b1dbe6973erow4_col2\" class=\"data row4 col2\" >$31.77</td>\n",
       "            </tr>\n",
       "    </tbody></table>"
      ],
      "text/plain": [
       "<pandas.io.formats.style.Styler at 0x21f7dbd4df0>"
      ]
     },
     "execution_count": 15,
     "metadata": {},
     "output_type": "execute_result"
    }
   ],
   "source": [
    "# PART 7: ANALYZE MOST POPULAR ITEMS\n",
    "\n",
    "# Group by Items\n",
    "items_data = purchase_data_df[['Item ID', 'Item Name', 'Price']]\n",
    "items_data = items_data.groupby(['Item ID', 'Item Name'])\n",
    "items_data.head()\n",
    "\n",
    "# Run data analysis\n",
    "purchase_count_items = items_data['Item ID'].count() \n",
    "average_price_items = items_data['Price'].mean()\n",
    "purchase_value_items = items_data['Price'].sum()\n",
    "\n",
    "# Create summary dataframe\n",
    "item_analysis_df = pd.DataFrame(\n",
    "    { \"Purchase Count\": purchase_count_items,\n",
    "     \"Average Purchase Price\": average_price_items, \n",
    "     \"Total Purchase Value\": purchase_value_items })\n",
    "\n",
    "# Sort highest to lowest by \"Purchase Count\" column and display top 5\n",
    "popular_items_df = item_analysis_df.sort_values(by='Purchase Count', ascending=False).head(5)\n",
    "\n",
    "# Style and display summary dataframe\n",
    "popular_items_df.style.format({'Average Purchase Price':\"${:,.2f}\",\n",
    "                                'Total Purchase Value': \"${:,.2f}\"})\n"
   ]
  },
  {
   "cell_type": "markdown",
   "metadata": {},
   "source": [
    "## Most Profitable Items"
   ]
  },
  {
   "cell_type": "markdown",
   "metadata": {},
   "source": [
    "* Sort the above table by total purchase value in descending order\n",
    "\n",
    "\n",
    "* Optional: give the displayed data cleaner formatting\n",
    "\n",
    "\n",
    "* Display a preview of the data frame\n",
    "\n"
   ]
  },
  {
   "cell_type": "code",
   "execution_count": 16,
   "metadata": {
    "scrolled": true
   },
   "outputs": [
    {
     "data": {
      "text/html": [
       "<style  type=\"text/css\" >\n",
       "</style><table id=\"T_a900f351_55ec_11eb_b2e0_38b1dbe6973e\" ><thead>    <tr>        <th class=\"blank\" ></th>        <th class=\"blank level0\" ></th>        <th class=\"col_heading level0 col0\" >Purchase Count</th>        <th class=\"col_heading level0 col1\" >Average Purchase Price</th>        <th class=\"col_heading level0 col2\" >Total Purchase Value</th>    </tr>    <tr>        <th class=\"index_name level0\" >Item ID</th>        <th class=\"index_name level1\" >Item Name</th>        <th class=\"blank\" ></th>        <th class=\"blank\" ></th>        <th class=\"blank\" ></th>    </tr></thead><tbody>\n",
       "                <tr>\n",
       "                        <th id=\"T_a900f351_55ec_11eb_b2e0_38b1dbe6973elevel0_row0\" class=\"row_heading level0 row0\" >92</th>\n",
       "                        <th id=\"T_a900f351_55ec_11eb_b2e0_38b1dbe6973elevel1_row0\" class=\"row_heading level1 row0\" >Final Critic</th>\n",
       "                        <td id=\"T_a900f351_55ec_11eb_b2e0_38b1dbe6973erow0_col0\" class=\"data row0 col0\" >13</td>\n",
       "                        <td id=\"T_a900f351_55ec_11eb_b2e0_38b1dbe6973erow0_col1\" class=\"data row0 col1\" >$4.61</td>\n",
       "                        <td id=\"T_a900f351_55ec_11eb_b2e0_38b1dbe6973erow0_col2\" class=\"data row0 col2\" >$59.99</td>\n",
       "            </tr>\n",
       "            <tr>\n",
       "                        <th id=\"T_a900f351_55ec_11eb_b2e0_38b1dbe6973elevel0_row1\" class=\"row_heading level0 row1\" >178</th>\n",
       "                        <th id=\"T_a900f351_55ec_11eb_b2e0_38b1dbe6973elevel1_row1\" class=\"row_heading level1 row1\" >Oathbreaker, Last Hope of the Breaking Storm</th>\n",
       "                        <td id=\"T_a900f351_55ec_11eb_b2e0_38b1dbe6973erow1_col0\" class=\"data row1 col0\" >12</td>\n",
       "                        <td id=\"T_a900f351_55ec_11eb_b2e0_38b1dbe6973erow1_col1\" class=\"data row1 col1\" >$4.23</td>\n",
       "                        <td id=\"T_a900f351_55ec_11eb_b2e0_38b1dbe6973erow1_col2\" class=\"data row1 col2\" >$50.76</td>\n",
       "            </tr>\n",
       "            <tr>\n",
       "                        <th id=\"T_a900f351_55ec_11eb_b2e0_38b1dbe6973elevel0_row2\" class=\"row_heading level0 row2\" >82</th>\n",
       "                        <th id=\"T_a900f351_55ec_11eb_b2e0_38b1dbe6973elevel1_row2\" class=\"row_heading level1 row2\" >Nirvana</th>\n",
       "                        <td id=\"T_a900f351_55ec_11eb_b2e0_38b1dbe6973erow2_col0\" class=\"data row2 col0\" >9</td>\n",
       "                        <td id=\"T_a900f351_55ec_11eb_b2e0_38b1dbe6973erow2_col1\" class=\"data row2 col1\" >$4.90</td>\n",
       "                        <td id=\"T_a900f351_55ec_11eb_b2e0_38b1dbe6973erow2_col2\" class=\"data row2 col2\" >$44.10</td>\n",
       "            </tr>\n",
       "            <tr>\n",
       "                        <th id=\"T_a900f351_55ec_11eb_b2e0_38b1dbe6973elevel0_row3\" class=\"row_heading level0 row3\" >145</th>\n",
       "                        <th id=\"T_a900f351_55ec_11eb_b2e0_38b1dbe6973elevel1_row3\" class=\"row_heading level1 row3\" >Fiery Glass Crusader</th>\n",
       "                        <td id=\"T_a900f351_55ec_11eb_b2e0_38b1dbe6973erow3_col0\" class=\"data row3 col0\" >9</td>\n",
       "                        <td id=\"T_a900f351_55ec_11eb_b2e0_38b1dbe6973erow3_col1\" class=\"data row3 col1\" >$4.58</td>\n",
       "                        <td id=\"T_a900f351_55ec_11eb_b2e0_38b1dbe6973erow3_col2\" class=\"data row3 col2\" >$41.22</td>\n",
       "            </tr>\n",
       "            <tr>\n",
       "                        <th id=\"T_a900f351_55ec_11eb_b2e0_38b1dbe6973elevel0_row4\" class=\"row_heading level0 row4\" >103</th>\n",
       "                        <th id=\"T_a900f351_55ec_11eb_b2e0_38b1dbe6973elevel1_row4\" class=\"row_heading level1 row4\" >Singed Scalpel</th>\n",
       "                        <td id=\"T_a900f351_55ec_11eb_b2e0_38b1dbe6973erow4_col0\" class=\"data row4 col0\" >8</td>\n",
       "                        <td id=\"T_a900f351_55ec_11eb_b2e0_38b1dbe6973erow4_col1\" class=\"data row4 col1\" >$4.35</td>\n",
       "                        <td id=\"T_a900f351_55ec_11eb_b2e0_38b1dbe6973erow4_col2\" class=\"data row4 col2\" >$34.80</td>\n",
       "            </tr>\n",
       "    </tbody></table>"
      ],
      "text/plain": [
       "<pandas.io.formats.style.Styler at 0x21f7dbd2bb0>"
      ]
     },
     "execution_count": 16,
     "metadata": {},
     "output_type": "execute_result"
    }
   ],
   "source": [
    "# PART 8: IDENTIFY MOST PROFITABLE ITEMS\n",
    "\n",
    "# Sort table of most popular items by total purchase value\n",
    "profitable_items_df = item_analysis_df.sort_values(by='Total Purchase Value', ascending=False).head(5)\n",
    "\n",
    "# Style and display summary dataframe\n",
    "profitable_items_df.style.format({'Average Purchase Price':\"${:,.2f}\",\n",
    "                                'Total Purchase Value': \"${:,.2f}\"})"
   ]
  },
  {
   "cell_type": "code",
   "execution_count": null,
   "metadata": {},
   "outputs": [],
   "source": []
  }
 ],
 "metadata": {
  "anaconda-cloud": {},
  "kernel_info": {
   "name": "python3"
  },
  "kernelspec": {
   "display_name": "Python 3",
   "language": "python",
   "name": "python3"
  },
  "language_info": {
   "codemirror_mode": {
    "name": "ipython",
    "version": 3
   },
   "file_extension": ".py",
   "mimetype": "text/x-python",
   "name": "python",
   "nbconvert_exporter": "python",
   "pygments_lexer": "ipython3",
   "version": "3.8.5"
  },
  "latex_envs": {
   "LaTeX_envs_menu_present": true,
   "autoclose": false,
   "autocomplete": true,
   "bibliofile": "biblio.bib",
   "cite_by": "apalike",
   "current_citInitial": 1,
   "eqLabelWithNumbers": true,
   "eqNumInitial": 1,
   "hotkeys": {
    "equation": "Ctrl-E",
    "itemize": "Ctrl-I"
   },
   "labels_anchors": false,
   "latex_user_defs": false,
   "report_style_numbering": false,
   "user_envs_cfg": false
  },
  "nteract": {
   "version": "0.2.0"
  }
 },
 "nbformat": 4,
 "nbformat_minor": 2
}
